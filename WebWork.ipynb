{
 "cells": [
  {
   "cell_type": "code",
   "execution_count": 1,
   "metadata": {
    "collapsed": false,
    "slideshow": {
     "slide_type": "slide"
    }
   },
   "outputs": [
    {
     "data": {
      "text/html": [
       "<style>\n",
       "/* font awesome */\n",
       "/*\n",
       "  .icon-university{position:relative}\n",
       "  .icon-university:before{content:\"\\f19c\"}\n",
       "*/\n",
       "@import url(//netdna.bootstrapcdn.com/font-awesome/3.2.1/css/font-awesome.min.css);\n",
       "/* style beige.css */\n",
       ".reveal h1 {\n",
       "  text-shadow: none;\n",
       "}\n",
       "\n",
       "#talk-subtitle\n",
       "{\n",
       "  text-align: center;\n",
       "}\n",
       "</style>\n"
      ],
      "text/plain": [
       "<IPython.core.display.HTML object>"
      ]
     },
     "metadata": {},
     "output_type": "display_data"
    }
   ],
   "source": [
    "%matplotlib inline\n",
    "from IPython.display import display\n",
    "from IPython.display import Image, HTML\n",
    "from IPython.display import IFrame,YouTubeVideo\n",
    "display(HTML(open('style0.css').read()))"
   ]
  },
  {
   "cell_type": "raw",
   "metadata": {
    "slideshow": {
     "slide_type": "-"
    }
   },
   "source": [
    "<link rel=\"stylesheet\" href=\"reveal.js/css/theme/sky.css\" id=\"theme\">"
   ]
  },
  {
   "cell_type": "markdown",
   "metadata": {
    "slideshow": {
     "slide_type": "-"
    }
   },
   "source": [
    "<h1><div id=\"talk-subtitle\">Devoirs en ligne</div></h1>\n",
    "<center>\n",
    "<br>\n",
    "<img src=\"Figures/webwork0.png\" alt=\"webwork\" style=\"display:inline;width:350px;\" /><br>\n",
    "<img src=\"Figures/Ipython.jpeg\" alt=\"ipython\" style=\"display:inline;width:350px;\" /> \n",
    "</center>\n",
    "<br>\n",
    "\n",
    "<p><a href=\"http://ufrmeca.univ-lyon1.fr/~buffat\">Marc Buffat @ univ-lyon1.fr</a></p>\n"
   ]
  },
  {
   "cell_type": "markdown",
   "metadata": {
    "slideshow": {
     "slide_type": "slide"
    }
   },
   "source": [
    "<h1><div id=\"talk-title\">Remerciement</div></h1>\n",
    "<br>\n",
    "\n",
    "- Projet WebWork à l'UCB Lyon 1\n",
    "\n",
    "Claude Inserra, Pierre Valiorgue, John Sundar, Morgane Bergot, Antoine Cazes, ..\n",
    "\n",
    "- <a href=\"http://webwork.maa.org\">WebWork: http://webwork.maa.org</a>\n",
    "\n",
    "Pr. **Michael Gage**, department of mathematics, university of Rochester\n"
   ]
  },
  {
   "cell_type": "markdown",
   "metadata": {
    "slideshow": {
     "slide_type": "skip"
    }
   },
   "source": [
    "\n",
    "- <a href=\"http://ipython.org\">Ipython notebook: http://ipython.org</a>\n",
    "\n",
    "**Fernando Pérez**, Lawrence Berkeley National Laboratory\n",
    "\n",
    "- Unix (Linux) and FSF philosophy\n",
    "\n",
    "  - Small is beautiful\n",
    "  - KISS principle (Keep it Simple Stupid)\n",
    "  - Make every program a filter. "
   ]
  },
  {
   "cell_type": "markdown",
   "metadata": {
    "slideshow": {
     "slide_type": "subslide"
    }
   },
   "source": [
    "<h1><div id=\"talk-subtitle\">Exemple de cours avec Webwork (accès libre)</div></h1>\n",
    "\n",
    "-  <i class=\"icon-github\"> <a href=\"http://nbviewer.jupyter.org/github/mbuffat/WebWork/blob/master/WebWork.ipynb\">version interactive sur github/mbuffat</a></i>\n",
    "\n",
    "-  <a href=\"http://ufrmeca.univ-lyon1.fr/moodle\">http://ufrmeca.univ-lyon1.fr/moodle/course/view.php?id=112</a>\n",
    "\n"
   ]
  },
  {
   "cell_type": "code",
   "execution_count": 2,
   "metadata": {
    "collapsed": false,
    "slideshow": {
     "slide_type": "subslide"
    }
   },
   "outputs": [
    {
     "data": {
      "text/html": [
       "\n",
       "        <iframe\n",
       "            width=\"100%\"\n",
       "            height=\"500\"\n",
       "            src=\"http://ufrmeca.univ-lyon1.fr/moodle/course/view.php?id=112\"\n",
       "            frameborder=\"0\"\n",
       "            allowfullscreen\n",
       "        ></iframe>\n",
       "        "
      ],
      "text/plain": [
       "<IPython.lib.display.IFrame at 0x7f317e79d150>"
      ]
     },
     "execution_count": 2,
     "metadata": {},
     "output_type": "execute_result"
    }
   ],
   "source": [
    "IFrame(\"http://ufrmeca.univ-lyon1.fr/moodle/course/view.php?id=112\",width=\"100%\",height=\"500\")"
   ]
  },
  {
   "cell_type": "markdown",
   "metadata": {
    "slideshow": {
     "slide_type": "slide"
    }
   },
   "source": [
    "<center><i class=\"icon-list-ol icon-2x\"> Plan de l'exposé</i></center>\n",
    "\n",
    "<ol>\n",
    "<li> Contexte</li>\n",
    "<li> WebWork: un outil de devoir en ligne</li>\n",
    "<li> Utilisation au département de Mécanique</li>\n",
    "<li> Conclusion</li>\n",
    "</ol>\n"
   ]
  },
  {
   "cell_type": "markdown",
   "metadata": {
    "slideshow": {
     "slide_type": "slide"
    }
   },
   "source": [
    "<h1><div id=\"talk-title\">Contexte à l'université</div></h1>\n",
    "\n",
    "- Formation en présentiel en Licence / Master  \"Mécanique Energétique\"\n",
    "\n",
    "- Enseignements en Mécanique (fluide/solide)\n",
    "\n",
    "- Outils mathématiques et méthodes numériques\n",
    "\n"
   ]
  },
  {
   "cell_type": "markdown",
   "metadata": {
    "slideshow": {
     "slide_type": "subslide"
    }
   },
   "source": [
    "<h1><div id=\"talk-title\">Mathematics (and Science) is not a spectator sport</div></h1>\n",
    "\n",
    "-** \"Learning by doing\"**\n",
    "<center>\n",
    "<img src=\"Figures/homework1.jpg\" style=\"display:inline;width:300px;\" />\n",
    "<img src=\"Figures/pinterest.gif\" style=\"display:inline;width:300px;\" /> \n",
    "</center>\n"
   ]
  },
  {
   "cell_type": "markdown",
   "metadata": {
    "slideshow": {
     "slide_type": "subslide"
    }
   },
   "source": [
    "<h1><div id=\"talk-subtitle\">Besoin à l'université</div></h1>\n",
    "<br>\n",
    "\n",
    "<p style=\"text-align: left;\"><i class=\"icon-check icon-1x\"> Présentiel</i></p>\n",
    "\n",
    "- étudiants de formation très disparate avec un manque de méthode de travail\n",
    "- peu de maîtrise de l'**outil mathématique**, et de la **programmation scientifique**\n",
    "- beaucoup d'étudiants en difficulté (~ 50%)"
   ]
  },
  {
   "cell_type": "markdown",
   "metadata": {
    "slideshow": {
     "slide_type": "notes"
    }
   },
   "source": [
    "Livre \"Mathematics is not a spectator sport\" bu George M. Philipps\n",
    "\n",
    "\n",
    "//e avec les musiciens qui doivent maitriser leur instrument\n",
    "\n",
    "George Polya quote: \"Mathematics is not a spectator sport!\""
   ]
  },
  {
   "cell_type": "markdown",
   "metadata": {
    "slideshow": {
     "slide_type": "subslide"
    }
   },
   "source": [
    "<p style=\"text-align: left;\"><i class=\"icon-bullhorn icon-1x\"> Besoin en enseignement</i></p>\n",
    " - apprentissage interactif par la pratique\n",
    "    * $\\Rightarrow$ exercices pour les étudiants\n",
    "    * $\\Rightarrow$ résolution de  problème pour acquérir méthode et formalisme\n",
    " - accés en dehors des heures encadrées\n",
    " - utilisation du Web"
   ]
  },
  {
   "cell_type": "markdown",
   "metadata": {
    "slideshow": {
     "slide_type": "subslide"
    }
   },
   "source": [
    "<h1><div id=\"talk-subtitle\">Outils disponibles</div></h1>\n",
    "\n",
    "<p style=\"text-align: left;\"><i class=\"icon-windows icon-2x\"> Logiciels sur </i><i class=\"icon-laptop icon-3x\"></i></p> \n",
    "\n",
    "mise à disposition en salle de TP (libre service)\n",
    "\n",
    "- Matlab/ Maple/ Comsol/ ....\n",
    "- logiciels propriétaires (licence) avec une \"très belle\" interface **WYSIWYG**\n",
    "- nécéssite une installation sur le poste de l'étudiant"
   ]
  },
  {
   "cell_type": "markdown",
   "metadata": {
    "slideshow": {
     "slide_type": "subslide"
    }
   },
   "source": [
    "<p style=\"text-align: left;\"><i class=\"icon-linux icon-2x\"> Outils Web 2.0 </i><i class=\"icon-cloud icon-3x\"></i></p>\n",
    "\n",
    "logiciels libres , interopérables et **WYSIWYM**\n",
    "\n",
    "- Webwork\n",
    "- IPython notebook\n",
    "- Sage / SageCell\n",
    "- aucune installation (navigateur/tablette/smartphone)"
   ]
  },
  {
   "cell_type": "markdown",
   "metadata": {
    "slideshow": {
     "slide_type": "slide"
    }
   },
   "source": [
    "\n",
    "<p style=\"text-align: left;\"><i class=\"icon-book icon-2x\"> système de devoirs en ligne</i></p>\n",
    "<center><img src=\"Figures/webwork_rectangle.png\" alt=\"Webwork\" /> \n",
    "</center>\n",
    "<center>http://webwork.maa.org</center>\n",
    "\n",
    "\n",
    "- développé à l'université de Rochester depuis 2000\n",
    "- très utilisé dans les enseignements de Mathématique aux USA (et au Québec)\n"
   ]
  },
  {
   "cell_type": "markdown",
   "metadata": {
    "slideshow": {
     "slide_type": "subslide"
    }
   },
   "source": [
    "\n",
    "- soutenu par la MAA<img src=\"Figures/MAA.jpeg\" width=100/>\n",
    "- énorme bibliothèque d'exercices en mathématique: $\\approx 20 000$<br> \n",
    "algèbre, probabilité, calculus, equa. diff., algèbre linéaire, analyse complexe,..\n",
    "\n",
    "- système ouvert (libre) et interfaçable (LMS Moodle, Sage, Ipython,...)"
   ]
  },
  {
   "cell_type": "markdown",
   "metadata": {
    "slideshow": {
     "slide_type": "subslide"
    }
   },
   "source": [
    "<h1><div id=\"talk-subtitle\">Intérêts de WebWork<br>\n",
    "<img src=\"Figures/test.jpg\" alt=\"Webwork\" style=\"height:200px;\" /></div></h1>\n",
    "\n",
    "## $\\neq$ QCM ##\n",
    " - exercise de mathématique\n",
    " - individualisé et paramétrable\n",
    " - analyse de la réponse (unité, formule mathématique, ..)\n",
    " \n"
   ]
  },
  {
   "cell_type": "markdown",
   "metadata": {
    "slideshow": {
     "slide_type": "subslide"
    }
   },
   "source": [
    "<h1><div id=\"talk-subtitle\">Objectifs</div></h1>\n",
    "\n",
    "## devoirs à la maison ##\n",
    "\n",
    "- réponse immédiate pour les étudiants\n",
    "\n",
    "- version individualisée des devoirs\n",
    "\n",
    "- notation automatique\n",
    "\n",
    "## interface WEB standard ## \n",
    "\n"
   ]
  },
  {
   "cell_type": "markdown",
   "metadata": {
    "slideshow": {
     "slide_type": "subslide"
    }
   },
   "source": [
    "<h2> intégration LMS </h2>\n",
    "- <a href=\"http://ufrmeca.univ-lyon1.fr/moodle\">http://ufrmeca.univ-lyon1.fr/moodle/course/view.php?id=2</a>"
   ]
  },
  {
   "cell_type": "code",
   "execution_count": 3,
   "metadata": {
    "collapsed": false,
    "slideshow": {
     "slide_type": "-"
    }
   },
   "outputs": [
    {
     "data": {
      "text/html": [
       "\n",
       "        <iframe\n",
       "            width=\"100%\"\n",
       "            height=\"500\"\n",
       "            src=\"http://ufrmeca.univ-lyon1.fr/moodle/course/view.php?id=2\"\n",
       "            frameborder=\"0\"\n",
       "            allowfullscreen\n",
       "        ></iframe>\n",
       "        "
      ],
      "text/plain": [
       "<IPython.lib.display.IFrame at 0x7f317e79d110>"
      ]
     },
     "execution_count": 3,
     "metadata": {},
     "output_type": "execute_result"
    }
   ],
   "source": [
    "IFrame(\"http://ufrmeca.univ-lyon1.fr/moodle/course/view.php?id=2\",width=\"100%\",height=\"500\")"
   ]
  },
  {
   "cell_type": "markdown",
   "metadata": {
    "slideshow": {
     "slide_type": "subslide"
    }
   },
   "source": [
    "<center><img src=\"Figures/webwork_rectangle.png\" alt=\"Webwork\" /></center>\n",
    "<h2> étape 1: version papier</h2>"
   ]
  },
  {
   "cell_type": "code",
   "execution_count": 4,
   "metadata": {
    "collapsed": false,
    "slideshow": {
     "slide_type": "-"
    }
   },
   "outputs": [
    {
     "data": {
      "text/html": [
       "\n",
       "        <iframe\n",
       "            width=\"100%\"\n",
       "            height=\"500\"\n",
       "            src=\"Figures/AeroDynL3.buffat.chap0.pdf\"\n",
       "            frameborder=\"0\"\n",
       "            allowfullscreen\n",
       "        ></iframe>\n",
       "        "
      ],
      "text/plain": [
       "<IPython.lib.display.IFrame at 0x7f317e789e50>"
      ]
     },
     "execution_count": 4,
     "metadata": {},
     "output_type": "execute_result"
    }
   ],
   "source": [
    "IFrame(\"Figures/AeroDynL3.buffat.chap0.pdf\",width=\"100%\",height=500)"
   ]
  },
  {
   "cell_type": "markdown",
   "metadata": {
    "slideshow": {
     "slide_type": "subslide"
    }
   },
   "source": [
    "<center><img src=\"Figures/webwork_rectangle.png\" alt=\"Webwork\" /></center>\n",
    "<h2> étape 2: réponses </h2>\n",
    "<img src=\"Figures/AerodynL3webwork2.png\" style=\"display:inline;width:700px;\"/>"
   ]
  },
  {
   "cell_type": "markdown",
   "metadata": {
    "slideshow": {
     "slide_type": "subslide"
    }
   },
   "source": [
    "<center><img src=\"Figures/webwork_rectangle.png\" alt=\"Webwork\" /></center>\n",
    "<h2> étape 3:  validation </h2>\n",
    "<img src=\"Figures/AerodynL3webwork3.png\" style=\"display:inline;width:800px;\"/>"
   ]
  },
  {
   "cell_type": "markdown",
   "metadata": {
    "slideshow": {
     "slide_type": "subslide"
    }
   },
   "source": [
    "<h1><div id=\"talk-title\">Intérêt pour l'étudiant</div></h1>\n",
    "\n",
    "<h2>Avantage</h2>\n",
    " - réponse immédiate et possibilité de correction\n",
    " - incite les étudiants à utiliser un papier et un crayon\n",
    " - travail régulier \n",
    " - mais nécéssite un apprentissage"
   ]
  },
  {
   "cell_type": "markdown",
   "metadata": {
    "slideshow": {
     "slide_type": "subslide"
    }
   },
   "source": [
    "<h1><div id=\"talk-title\">Intérêt pour l'enseignant</div></h1>\n",
    "\n",
    "<h2>Avantage</h2>\n",
    " - notation automatique des devoirs\n",
    "     - accés au statistique des étudiants\n",
    " - bibliothéque d'exercices de mathématique (anglais)\n",
    " - forme d'exercice simple à complexe\n",
    "     - formule analytique, utilisation d'unité, ..\n"
   ]
  },
  {
   "cell_type": "markdown",
   "metadata": {
    "slideshow": {
     "slide_type": "subslide"
    }
   },
   "source": [
    "\n",
    "<h2>Inconvénients</h2>\n",
    " - écriture d'exercices = programmation (perl + LaTeX)\n",
    "    - mais possibilité de copier/coller !!\n",
    " - validation des exercices (paramétrique)\n",
    " - ne remplace pas un TD !!!\n",
    " - demande du temps !!!"
   ]
  },
  {
   "cell_type": "markdown",
   "metadata": {
    "slideshow": {
     "slide_type": "slide"
    }
   },
   "source": [
    "<h1><div id=\"talk-title\">Utilisation</div></h1>\n",
    "<center><img src=\"Figures/webwork_rectangle.png\" alt=\"Webwork\" /></center>\n",
    "\n",
    "** Compléments de cours**\n",
    "- en L1 physique (thermodynamique)\n",
    "- en L1 mathématique (math2 PCSI)\n",
    "- en Licence et Master M1 Mécanique: devoirs à la maison noté (10% UE) \n",
    "\n",
    "<a href=\"http://ufrmeca.univ-lyon1.fr/moodle/course/view.php?id=63</a>\">M1 outils pour la Mecanique</a>\n",
    "\n",
    "\n",
    " "
   ]
  },
  {
   "cell_type": "markdown",
   "metadata": {
    "slideshow": {
     "slide_type": "subslide"
    }
   },
   "source": [
    "** TD encadrés en petits groupes **\n",
    " - groupes en autonomie ou encadré\n",
    " - en L3: compléments de mathématique\n",
    " - en M1: outils pour la mécanique (math, info, mécanique)\n",
    " \n",
    "<a href=\"http://ufrmeca.univ-lyon1.fr/moodle/course/view.php?id=10</a>\">M1 cours EF</a>"
   ]
  },
  {
   "cell_type": "markdown",
   "metadata": {
    "slideshow": {
     "slide_type": "subslide"
    }
   },
   "source": [
    "<h1><div id=\"talk-title\">Utilisation (suite)</div></h1>\n",
    "\n",
    "\n",
    "** liste d'exercices simples **\n",
    " - Licence/Master: exercices de mathématique (calculus)\n",
    "\n",
    "<a href=\"http://ufrmeca.univ-lyon1.fr/moodle/course/view.php?id=63</a>\">M1: outils pour la Mécanique</a>\n",
    "\n",
    " \n",
    "** exercices plus complexes **\n",
    " - Master M1: méthode des élèments finis\n",
    " \n",
    "<a href=\"http://ufrmeca.univ-lyon1.fr/moodle/course/view.php?id=10</a>\">M1: cours EF</a>\n"
   ]
  },
  {
   "cell_type": "markdown",
   "metadata": {
    "slideshow": {
     "slide_type": "subslide"
    }
   },
   "source": [
    "<h1><div id=\"talk-title\">Perspectives</div></h1>\n",
    "\n",
    "avec des moyens et des salles adaptées\n",
    "\n",
    "** cours / TD interactif **\n",
    "\n",
    "** utilisation pour des examens **\n",
    "- en salles informatiques ou avec tablettes / portables\n",
    "- autorise uniquement une réponse\n",
    "- contrôle d'accés\n"
   ]
  },
  {
   "cell_type": "markdown",
   "metadata": {
    "slideshow": {
     "slide_type": "slide"
    }
   },
   "source": [
    "<h1><div id=\"talk-title\">Conclusion</div></h1>\n",
    "\n",
    "<p style=\"text-align: left;\"><i class=\"icon-plus-sign icon-2x\"> Webwork</i></p>\n",
    "\n",
    "- étudiants travaillent à leur rythme\n",
    "    - nombreuses tentatives (avec 80 à 100% réussite)\n",
    "- utilisé depuis 2009\n",
    "- mise en place  en L1 portail PCSI  \n"
   ]
  },
  {
   "cell_type": "markdown",
   "metadata": {
    "slideshow": {
     "slide_type": "subslide"
    }
   },
   "source": [
    "<h1><div id=\"talk-title\"> Difficultés</div></h1>\n",
    "\n",
    "<p style=\"text-align: left;\"><i class=\"icon-warning-sign icon-2x\"> Webwork </i></p>\n",
    "- outil mature mais bibliothéque en mathématique\n",
    "   - écriture de nouveaux exercices (programme Perl)\n",
    "   - pas de bibliothéque d'exercices en Mécanique\n",
    "- problème de valorisation pour les enseignants\n",
    "   - bonne volonté "
   ]
  },
  {
   "cell_type": "markdown",
   "metadata": {
    "slideshow": {
     "slide_type": "slide"
    }
   },
   "source": [
    "<h1><div id=\"talk-subtitle\">Merci de votre attention !!!</div></h1>\n",
    "\n",
    "<div id=\"talk-title\">power by <b>IPython</b> <img style=\"vertical-align:middle; display:inline; width:250px;\" src='Figures/ipynblogo.png'></div>\n",
    "<p>\n",
    "<center><img style=\"display:inline; width:500px;\"src=\"Figures/ministry-of-silly-walks.jpg\"></center>"
   ]
  },
  {
   "cell_type": "markdown",
   "metadata": {
    "slideshow": {
     "slide_type": "subslide"
    }
   },
   "source": [
    "<h1><div id=\"talk-title\">Question!!</div></h1>\n",
    "\n",
    "<center>\n",
    "<img src=\"Figures/face_question_mark1.png\" alt=\"Questions\" style=\"width:300px;\"/><br>\n",
    "</center>\n",
    "\n"
   ]
  }
 ],
 "metadata": {
  "celltoolbar": "Slideshow",
  "kernelspec": {
   "display_name": "Python 2",
   "language": "python",
   "name": "python2"
  },
  "language_info": {
   "codemirror_mode": {
    "name": "ipython",
    "version": 2
   },
   "file_extension": ".py",
   "mimetype": "text/x-python",
   "name": "python",
   "nbconvert_exporter": "python",
   "pygments_lexer": "ipython2",
   "version": "2.7.6"
  }
 },
 "nbformat": 4,
 "nbformat_minor": 0
}
