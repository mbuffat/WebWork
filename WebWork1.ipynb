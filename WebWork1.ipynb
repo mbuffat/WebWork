{
 "cells": [
  {
   "cell_type": "code",
   "execution_count": 49,
   "metadata": {
    "collapsed": false,
    "slideshow": {
     "slide_type": "slide"
    }
   },
   "outputs": [
    {
     "data": {
      "application/javascript": [
       "IPython.notebook.set_autosave_interval(300000)"
      ]
     },
     "metadata": {},
     "output_type": "display_data"
    },
    {
     "name": "stdout",
     "output_type": "stream",
     "text": [
      "Autosaving every 300 seconds\n"
     ]
    }
   ],
   "source": [
    "%matplotlib inline\n",
    "%autosave 300\n",
    "from IPython.display import display\n",
    "from IPython.display import Image, HTML\n",
    "from IPython.display import IFrame,YouTubeVideo\n",
    "#display(HTML(open('style0.css').read()))"
   ]
  },
  {
   "cell_type": "raw",
   "metadata": {
    "slideshow": {
     "slide_type": "fragment"
    }
   },
   "source": [
    "<link rel=\"stylesheet\" href=\"reveal.js/css/theme/sky.css\" id=\"theme\">\n"
   ]
  },
  {
   "cell_type": "markdown",
   "metadata": {
    "slideshow": {
     "slide_type": "slide"
    }
   },
   "source": [
    "<h1><div id=\"talk-subtitle\">Devoirs en ligne WebWork<br>\n",
    "retour d'expériences</div></h1>\n",
    "<center>\n",
    "<br>\n",
    "<img src=\"Figures/webwork0.png\" alt=\"webwork\" style=\"display:inline;width:350px;\" /><br>\n",
    "<img src=\"Figures/Ipython.jpeg\" alt=\"ipython\" style=\"display:inline;width:350px;\" /> \n",
    "</center>\n",
    "<br>\n",
    "\n",
    "\n",
    "<p style=\"text-align: left;\"><i class=\"icon-user\"> <a href=\"http://ufrmeca.univ-lyon1.fr/~buffat\">Marc Buffat</a> @ univ-lyon1.fr</i></p>\n",
    "\n",
    "<p style=\"text-align: left;\"><i class=\"icon-building\"> dpt Mécanique, université Lyon 1</i></p>"
   ]
  },
  {
   "cell_type": "markdown",
   "metadata": {
    "slideshow": {
     "slide_type": "slide"
    }
   },
   "source": [
    "<h1><div id=\"talk-title\">Remerciement</div></h1>\n",
    "<br>\n",
    "<p style=\"text-align: left;\"><i class=\"icon-group icon-1x\"> projet WebWork à l'UCB Lyon 1</i></p>\n",
    "Claude Inserra, Pierre Valiorgue, John Sundar, Morgane Bergot, Antoine Cazes, ..\n",
    "\n",
    "<p style=\"text-align: left;\"><i class=\"icon-hand-right icon-1x\"><a href=\"http://webwork.maa.org\">WebWork: http://webwork.maa.org</a></i></p>\n",
    "Pr. **Michael Gage**, department of mathematics, university of Rochester\n",
    "\n",
    "<p style=\"text-align: left;\"><i class=\"icon-hand-right icon-1x\"><a href=\"http://ipython.org\">Ipython notebook: http://ipython.org</a></i></p>\n",
    "**Fernando Pérez**, Lawrence Berkeley National Laboratory\n",
    "\n",
    "<p style=\"text-align: left;\"><i class=\"icon-linux icon-1x\"><b>Unix (Linux) philosophy</b></i></p>\n",
    "\n",
    "- Small is beautiful. \n",
    "- Make each program do one thing well. \n",
    "- Make every program a filter. \n",
    "- KISS principle (Keep it Simple Stupid)\n"
   ]
  },
  {
   "cell_type": "markdown",
   "metadata": {
    "slideshow": {
     "slide_type": "subslide"
    }
   },
   "source": [
    "<center><i class=\"icon-list-ol icon-2x\"> Plan de l'exposé</i></center>\n",
    "<h2>\n",
    "<ol>\n",
    "<li> Contexte</li>\n",
    "<li> WebWork un outil de devoir en ligne</li>\n",
    "<li> Utilisation au département de Mécanique</li>\n",
    "<li> Conclusion</li>\n",
    "</ul>\n",
    "</h2>"
   ]
  },
  {
   "cell_type": "markdown",
   "metadata": {
    "slideshow": {
     "slide_type": "slide"
    }
   },
   "source": [
    "<h1><div id=\"talk-title\">Contexte à l'université</div></h1>\n",
    "\n",
    "- Formation en présentiel en Licence / Master  \"Mécanique Energétique\"\n",
    "\n",
    "- Enseignements de Mécanique (fluide/solide), Outils mathématiques et Méthodes numériques\n",
    "\n",
    "- Portail pédagogique: http://ufrmeca.univ-lyon1.fr/moodle\n"
   ]
  },
  {
   "cell_type": "code",
   "execution_count": 50,
   "metadata": {
    "collapsed": false,
    "slideshow": {
     "slide_type": "-"
    }
   },
   "outputs": [
    {
     "data": {
      "text/html": [
       "\n",
       "        <iframe\n",
       "            width=\"100%\"\n",
       "            height=\"400\"\n",
       "            src=\"http://ufrmeca.univ-lyon1.fr/moodle?lang=fr\"\n",
       "            frameborder=\"0\"\n",
       "            allowfullscreen\n",
       "        ></iframe>\n",
       "        "
      ],
      "text/plain": [
       "<IPython.lib.display.IFrame at 0x7efce1e148d0>"
      ]
     },
     "execution_count": 50,
     "metadata": {},
     "output_type": "execute_result"
    }
   ],
   "source": [
    "IFrame(\"http://ufrmeca.univ-lyon1.fr/moodle?lang=fr\",width=\"100%\",height=400)"
   ]
  },
  {
   "cell_type": "markdown",
   "metadata": {
    "slideshow": {
     "slide_type": "slide"
    }
   },
   "source": [
    "<h1><div id=\"talk-title\">Contexte de l'enseignement en Science</div></h1>\n",
    "<br>\n",
    "<h2><center>\"Mathematics (and Science) is not a spectator sport\"</center></h2>\n",
    "\n",
    "- **La maîtrise de l'outils mathématique passe par une pratique écrite **\n",
    "<center>\n",
    "<img src=\"Figures/homework1.jpg\" style=\"display:inline;width:350px;\" />\n",
    "<img src=\"Figures/pinterest.gif\" style=\"display:inline;width:350px;\" /> \n",
    "</center>\n",
    "<br>\n",
    "- ** \"Learning by doing\" ou la main à la pâte**\n"
   ]
  },
  {
   "cell_type": "markdown",
   "metadata": {
    "slideshow": {
     "slide_type": "subslide"
    }
   },
   "source": [
    "<h1><div id=\"talk-subtitle\">Enseignement en science à l'université</div></h1>\n",
    "<br>\n",
    "\n",
    "<p style=\"text-align: left;\"><i class=\"icon-check icon-1x\"> Enseignement en présentiel à l'université</i></p>\n",
    "\n",
    "- étudiants de formation très disparate avec un manque de méthode de travail\n",
    "- peu de maîtrise de l'**outil mathématique**, et de la **programmation scientifique**\n",
    "- beaucoup d'étudiants en difficulté (~ 50%)"
   ]
  },
  {
   "cell_type": "markdown",
   "metadata": {
    "slideshow": {
     "slide_type": "notes"
    }
   },
   "source": [
    "Livre \"Mathematics is not a spectator sport\" bu George M. Philipps\n",
    "\n",
    "\n",
    "//e avec les musiciens qui doivent maitriser leur instrument\n",
    "\n",
    "George Polya quote: \"Mathematics is not a spectator sport!\""
   ]
  },
  {
   "cell_type": "markdown",
   "metadata": {
    "slideshow": {
     "slide_type": "fragment"
    }
   },
   "source": [
    "<p style=\"text-align: left;\"><i class=\"icon-bullhorn icon-1x\"> Besoin en enseignement</i></p>\n",
    " - apprentissage interactif par la pratique\n",
    "    * $\\Rightarrow$ exercices pour les étudiants\n",
    "    * $\\Rightarrow$ résolution de  problème pour acquérir méthode et formalisme\n",
    " - accés en dehors des heures encadrées\n",
    " - utilisation du Web"
   ]
  },
  {
   "cell_type": "markdown",
   "metadata": {
    "slideshow": {
     "slide_type": "subslide"
    }
   },
   "source": [
    "<h1><div id=\"talk-subtitle\">Outils disponibles</div></h1>\n",
    "\n",
    "<p style=\"text-align: left;\"><i class=\"icon-windows icon-2x\"> Logiciels sur </i><i class=\"icon-laptop icon-3x\"></i></p> \n",
    "\n",
    "mise à disposition en salle de TP (libre service)\n",
    "\n",
    "- Matlab/ Maple/ Comsol/ ....\n",
    "- logiciels propriétaires (licence) avec une \"très belle\" interface **WYSIWYG**\n",
    "- nécéssite une installation sur le poste de l'étudiant"
   ]
  },
  {
   "cell_type": "markdown",
   "metadata": {
    "slideshow": {
     "slide_type": "fragment"
    }
   },
   "source": [
    "<p style=\"text-align: left;\"><i class=\"icon-linux icon-2x\"> Outils Web 2.0 </i><i class=\"icon-cloud icon-3x\"></i></p>\n",
    "\n",
    "logiciels libres , interopérables et **WYSIWYM**\n",
    "\n",
    "- Webwork\n",
    "- IPython notebook\n",
    "- Sage / SageCell\n",
    "- aucune installation (navigateur/tablette/smartphone)"
   ]
  },
  {
   "cell_type": "markdown",
   "metadata": {
    "slideshow": {
     "slide_type": "slide"
    }
   },
   "source": [
    "<center><img src=\"Figures/webwork_rectangle.png\" alt=\"Webwork\" /> \n",
    "</center>\n",
    "<h2><center>http://webwork.maa.org</center></h2>\n",
    "\n",
    "\n",
    "<p style=\"text-align: left;\"><i class=\"icon-book icon-2x\"> système de devoirs en ligne</i></p>\n",
    "\n",
    "\n",
    "- développé à l'université de Rochester depuis 2000\n",
    "- très utilisé dans les enseignements de Mathématique aux USA (et au Québec)\n",
    "<img src=\"Figures/MAA.jpeg\" width=200/>\n",
    "- énorme bibliothèque d'exercices en mathématique: $\\approx 20 000$<br> \n",
    "algèbre, probabilité, calculus, equa. diff., algèbre linéaire, analyse complexe,..\n",
    "\n",
    "- système ouvert (libre) et interfaçable (LMS Moodle, Sage)"
   ]
  },
  {
   "cell_type": "markdown",
   "metadata": {
    "slideshow": {
     "slide_type": "subslide"
    }
   },
   "source": [
    "<h1><div id=\"talk-subtitle\">Intérêts de WebWork<br>\n",
    "<img src=\"Figures/test.jpg\" alt=\"Webwork\" style=\"height:200px;\" /></div></h1>\n",
    "\n",
    "## Très différent d'un QCM ##\n",
    " - paramétrable\n",
    " - analyse de la réponse (unité, formule mathématique)\n",
    " \n",
    "## Rendre les devoirs à la maison plus efficaces\n",
    "\n",
    "- réponse immédiate pour les étudiants\n",
    "\n",
    "- version individualisée des devoirs\n",
    "\n",
    "- notation automatique\n",
    "\n",
    "## Interface WEB standard / intégration dans un LMS\n",
    "- <a href=\"http://ufrmeca.univ-lyon1.fr/moodle\">http://ufrmeca.univ-lyon1.fr/moodle/course/view.php?id=2</a>"
   ]
  },
  {
   "cell_type": "code",
   "execution_count": 51,
   "metadata": {
    "collapsed": false,
    "slideshow": {
     "slide_type": "subslide"
    }
   },
   "outputs": [
    {
     "data": {
      "text/html": [
       "\n",
       "        <iframe\n",
       "            width=\"100%\"\n",
       "            height=\"800\"\n",
       "            src=\"http://ufrmeca.univ-lyon1.fr/moodle/course/view.php?id=2\"\n",
       "            frameborder=\"0\"\n",
       "            allowfullscreen\n",
       "        ></iframe>\n",
       "        "
      ],
      "text/plain": [
       "<IPython.lib.display.IFrame at 0x7efce1e14a10>"
      ]
     },
     "execution_count": 51,
     "metadata": {},
     "output_type": "execute_result"
    }
   ],
   "source": [
    "IFrame(\"http://ufrmeca.univ-lyon1.fr/moodle/course/view.php?id=2\",width=\"100%\",height=\"800\")"
   ]
  },
  {
   "cell_type": "markdown",
   "metadata": {
    "slideshow": {
     "slide_type": "subslide"
    }
   },
   "source": [
    "<center><img src=\"Figures/webwork_rectangle.png\" alt=\"Webwork\" /></center>\n",
    "<h2> étape 1: version papier (PDF) des problèmes</h2>"
   ]
  },
  {
   "cell_type": "code",
   "execution_count": 52,
   "metadata": {
    "collapsed": false,
    "slideshow": {
     "slide_type": "-"
    }
   },
   "outputs": [
    {
     "data": {
      "text/html": [
       "\n",
       "        <iframe\n",
       "            width=\"100%\"\n",
       "            height=\"500\"\n",
       "            src=\"Figures/AeroDynL3.buffat.chap0.pdf\"\n",
       "            frameborder=\"0\"\n",
       "            allowfullscreen\n",
       "        ></iframe>\n",
       "        "
      ],
      "text/plain": [
       "<IPython.lib.display.IFrame at 0x7efce1e14a50>"
      ]
     },
     "execution_count": 52,
     "metadata": {},
     "output_type": "execute_result"
    }
   ],
   "source": [
    "IFrame(\"Figures/AeroDynL3.buffat.chap0.pdf\",width=\"100%\",height=500)"
   ]
  },
  {
   "cell_type": "markdown",
   "metadata": {
    "slideshow": {
     "slide_type": "subslide"
    }
   },
   "source": [
    "<center><img src=\"Figures/webwork_rectangle.png\" alt=\"Webwork\" /></center>\n",
    "<h2> étape 2: entrée des réponses </h2>\n",
    "<img src=\"Figures/AerodynL3webwork2.png\" style=\"display:inline;width:700px;\"/>"
   ]
  },
  {
   "cell_type": "markdown",
   "metadata": {
    "slideshow": {
     "slide_type": "subslide"
    }
   },
   "source": [
    "<center><img src=\"Figures/webwork_rectangle.png\" alt=\"Webwork\" /></center>\n",
    "<h2> étape 3:  validation des réponses</h2>\n",
    "<img src=\"Figures/AerodynL3webwork3.png\" style=\"display:inline;width:800px;\"/>"
   ]
  },
  {
   "cell_type": "markdown",
   "metadata": {
    "slideshow": {
     "slide_type": "slide"
    }
   },
   "source": [
    "<h1><div id=\"talk-title\">Intérêt pour l'étudiant</div></h1>\n",
    "\n",
    "<h2>Avantage</h2>\n",
    " - réponse immédiate et possibilité de correction\n",
    " - incite les étudiants à utiliser un papier et un crayon\n",
    " - travail régulier (date limite)\n",
    "\n",
    "\n",
    "<h2>Inconvénients</h2>\n",
    " - nécéssite un apprentissage\n",
    " - doit intervenir dans l'évaluation (~10%)"
   ]
  },
  {
   "cell_type": "markdown",
   "metadata": {
    "slideshow": {
     "slide_type": "subslide"
    }
   },
   "source": [
    "<h1><div id=\"talk-title\">Intérêt pour l'enseignant</div></h1>\n",
    "\n",
    "<h2>Avantage</h2>\n",
    " - notation automatique des devoirs\n",
    " - accés au statistique des étudiants\n",
    " - possibilité de limiter le nombre d'essais\n",
    " - possibilité d'une aide (hint) après n erreurs\n",
    " - bibliothéque d'exercices en mathématique (anglais)\n",
    " - exercice simple à complexe\n",
    " - utilisation d'unité\n",
    "\n",
    "\n",
    "<h2>Inconvénients</h2>\n",
    " - écriture d'exercices = programmation (perl + LaTeX)\n",
    "    - mais possibilité de copier/coller !!\n",
    " - validation des exercices (paramétrique)\n",
    " - ne remplace pas un TD !!!\n",
    " - demande du temps !!!"
   ]
  },
  {
   "cell_type": "markdown",
   "metadata": {},
   "source": [
    "<h1><div id=\"talk-title\">Utilisation dans les enseignements</div></h1>\n",
    "<center><img src=\"Figures/webwork_rectangle.png\" alt=\"Webwork\" /></center>\n",
    "\n",
    "** Compléments de cours à la maison**\n",
    "- en L1 physique (thermodynamique)\n",
    "- en L1 mathématique (math2 PCSI)\n",
    "- en Licence et Master M1 Mécanique: devoirs à la maison noté (10% UE) \n",
    "\n",
    "<a href=\"http://ufrmeca.univ-lyon1.fr/moodle/course/view.php?id=63</a>\">M1 outils pour la Mecanique</a>\n",
    "\n",
    "** TD encadrés en petits groupes **\n",
    " - en L3: compléments de mathématique\n",
    " - en M1: outils pour la mécanique (math, info, mécanique)\n",
    " \n",
    "<a href=\"http://ufrmeca.univ-lyon1.fr/moodle/course/view.php?id=10</a>\">M1 cours EF</a>\n",
    " "
   ]
  },
  {
   "cell_type": "markdown",
   "metadata": {},
   "source": [
    "<h1><div id=\"talk-title\">Utilisation dans les enseignements (suite)</div></h1>\n",
    "<center><img src=\"Figures/webwork_rectangle.png\" alt=\"Webwork\" /></center>\n",
    "\n",
    "** liste d'exercices simples **\n",
    " - Licence/Master: exercices de mathématique (calculus)\n",
    "\n",
    "<a href=\"http://ufrmeca.univ-lyon1.fr/moodle/course/view.php?id=63</a>\">M1 outils pour la Mecanique</a>\n",
    "\n",
    " \n",
    "** exercices plus complexes **\n",
    " - Master M1: méthode des élèments finis\n",
    " \n",
    "<a href=\"http://ufrmeca.univ-lyon1.fr/moodle/course/view.php?id=10</a>\">M1 cours EF</a>\n"
   ]
  },
  {
   "cell_type": "markdown",
   "metadata": {},
   "source": [
    "<h1><div id=\"talk-title\">Utilisation dans les enseignements (perspective)</div></h1>\n",
    "<center><img src=\"Figures/webwork_rectangle.png\" alt=\"Webwork\" /></center>\n",
    "\n",
    "avec des moyens et des salles adaptées\n",
    "\n",
    "** cours / TD interactif **\n",
    "- apprentissage démarche genérale\n",
    "- mise en application sur des cas particuliers\n",
    "\n",
    "** utilisation pour des examens **\n",
    "- nécéssite des salles informatiques ou des tablettes / portables\n",
    "- autorise uniquement une réponse\n",
    "- controle d'accés\n"
   ]
  },
  {
   "cell_type": "markdown",
   "metadata": {
    "slideshow": {
     "slide_type": "slide"
    }
   },
   "source": [
    "<h1><div id=\"talk-title\">Conclusion</div></h1>\n",
    "\n",
    "<p style=\"text-align: left;\"><i class=\"icon-plus-sign icon-2x\"> Webwork en Licence/Master</i></p>\n",
    "\n",
    "- étudiants travaillent à leur rythme\n",
    "- plusieurs tentatives (80 à 100% réussite)\n",
    "- utilisé au département depuis 2009\n",
    "- mise en place  en L1 portail PCSI  \n",
    "\n",
    "<p style=\"text-align: left;\"><i class=\"icon-plus-sign icon-2x\">Ipython notebook</i></p>\n",
    "\n",
    "- interfacage avec WebWork pour des cours interactifs\n",
    "- utilisation en cours (remplace $LaTeX$ + Beamer)\n",
    "- serveurs Jupyter (remplace Sage): projet TICE 2014 Lyon 1"
   ]
  },
  {
   "cell_type": "markdown",
   "metadata": {
    "slideshow": {
     "slide_type": "subslide"
    }
   },
   "source": [
    "<h1><div id=\"talk-title\"> Difficultés</div></h1>\n",
    "\n",
    "<p style=\"text-align: left;\"><i class=\"icon-warning-sign icon-2x\"> Webwork </i></p>\n",
    "- outil mature mais utilisé essentiellement en mathématique\n",
    "- écriture de nouveaux exercices (programme Perl)\n",
    "- pas de bibliothéque d'exercices en Mécanique\n",
    "\n",
    "<p style=\"text-align: left;\"><i class=\"icon-warning-sign icon-2x\"> Ipython notebook</i></p>\n",
    "- outil en plein développement \n",
    "- mais énorme potentiel\n",
    "\n",
    "<p style=\"text-align: left;\"><i class=\"icon-minus-sign icon-2x\"> Enseignants </i></p>\n",
    "- problème de valorisation pour les enseignants\n",
    "- bonne volonté (n'augmente pas leur facteur H) "
   ]
  },
  {
   "cell_type": "markdown",
   "metadata": {
    "slideshow": {
     "slide_type": "slide"
    }
   },
   "source": [
    "<h1><div id=\"talk-subtitle\">Merci de votre attention !!!</div></h1>\n",
    "<h1><div id=\"talk-title\">power by <img style=\"vertical-align:middle; display:inline; width:250px;\" src='Figures/ipynblogo.png'></div></h1>\n",
    "<p>\n",
    "<center><img style=\"display:inline; width:500px;\"src=\"Figures/ministry-of-silly-walks.jpg\"></center>"
   ]
  },
  {
   "cell_type": "markdown",
   "metadata": {
    "slideshow": {
     "slide_type": "subslide"
    }
   },
   "source": [
    "<h1><div id=\"talk-title\">Question!!</div></h1>\n",
    "\n",
    "<center>\n",
    "<img src=\"Figures/face_question_mark1.png\" alt=\"Questions\" style=\"width:300px;\"/><br>\n",
    "</center>\n",
    "\n"
   ]
  }
 ],
 "metadata": {
  "celltoolbar": "Slideshow",
  "kernelspec": {
   "display_name": "Python 2",
   "language": "python",
   "name": "python2"
  },
  "language_info": {
   "codemirror_mode": {
    "name": "ipython",
    "version": 2
   },
   "file_extension": ".py",
   "mimetype": "text/x-python",
   "name": "python",
   "nbconvert_exporter": "python",
   "pygments_lexer": "ipython2",
   "version": "2.7.6"
  }
 },
 "nbformat": 4,
 "nbformat_minor": 0
}
